{
 "cells": [
  {
   "cell_type": "code",
   "execution_count": 1,
   "id": "e95e804c",
   "metadata": {},
   "outputs": [],
   "source": [
    "import numpy as np\n",
    "import pandas as pd\n",
    "import matplotlib.pyplot as plt\n",
    "import pandas_datareader as data\n",
    "import yfinance as yf\n"
   ]
  },
  {
   "cell_type": "code",
   "execution_count": 5,
   "id": "5130b0e8",
   "metadata": {},
   "outputs": [
    {
     "name": "stdout",
     "output_type": "stream",
     "text": [
      "[*********************100%***********************]  1 of 1 completed\n"
     ]
    },
    {
     "data": {
      "text/html": [
       "<div>\n",
       "<style scoped>\n",
       "    .dataframe tbody tr th:only-of-type {\n",
       "        vertical-align: middle;\n",
       "    }\n",
       "\n",
       "    .dataframe tbody tr th {\n",
       "        vertical-align: top;\n",
       "    }\n",
       "\n",
       "    .dataframe thead th {\n",
       "        text-align: right;\n",
       "    }\n",
       "</style>\n",
       "<table border=\"1\" class=\"dataframe\">\n",
       "  <thead>\n",
       "    <tr style=\"text-align: right;\">\n",
       "      <th></th>\n",
       "      <th>Open</th>\n",
       "      <th>High</th>\n",
       "      <th>Low</th>\n",
       "      <th>Close</th>\n",
       "      <th>Adj Close</th>\n",
       "      <th>Volume</th>\n",
       "    </tr>\n",
       "    <tr>\n",
       "      <th>Date</th>\n",
       "      <th></th>\n",
       "      <th></th>\n",
       "      <th></th>\n",
       "      <th></th>\n",
       "      <th></th>\n",
       "      <th></th>\n",
       "    </tr>\n",
       "  </thead>\n",
       "  <tbody>\n",
       "    <tr>\n",
       "      <th>2015-10-20</th>\n",
       "      <td>27.834999</td>\n",
       "      <td>28.542500</td>\n",
       "      <td>27.705000</td>\n",
       "      <td>28.442499</td>\n",
       "      <td>25.852318</td>\n",
       "      <td>195871200</td>\n",
       "    </tr>\n",
       "    <tr>\n",
       "      <th>2015-10-21</th>\n",
       "      <td>28.500000</td>\n",
       "      <td>28.895000</td>\n",
       "      <td>28.424999</td>\n",
       "      <td>28.440001</td>\n",
       "      <td>25.850050</td>\n",
       "      <td>167180800</td>\n",
       "    </tr>\n",
       "    <tr>\n",
       "      <th>2015-10-22</th>\n",
       "      <td>28.582500</td>\n",
       "      <td>28.875000</td>\n",
       "      <td>28.525000</td>\n",
       "      <td>28.875000</td>\n",
       "      <td>26.245432</td>\n",
       "      <td>166616400</td>\n",
       "    </tr>\n",
       "    <tr>\n",
       "      <th>2015-10-23</th>\n",
       "      <td>29.174999</td>\n",
       "      <td>29.807501</td>\n",
       "      <td>29.082500</td>\n",
       "      <td>29.770000</td>\n",
       "      <td>27.058929</td>\n",
       "      <td>237467600</td>\n",
       "    </tr>\n",
       "    <tr>\n",
       "      <th>2015-10-26</th>\n",
       "      <td>29.520000</td>\n",
       "      <td>29.532499</td>\n",
       "      <td>28.730000</td>\n",
       "      <td>28.820000</td>\n",
       "      <td>26.195446</td>\n",
       "      <td>265335200</td>\n",
       "    </tr>\n",
       "  </tbody>\n",
       "</table>\n",
       "</div>"
      ],
      "text/plain": [
       "                 Open       High        Low      Close  Adj Close     Volume\n",
       "Date                                                                        \n",
       "2015-10-20  27.834999  28.542500  27.705000  28.442499  25.852318  195871200\n",
       "2015-10-21  28.500000  28.895000  28.424999  28.440001  25.850050  167180800\n",
       "2015-10-22  28.582500  28.875000  28.525000  28.875000  26.245432  166616400\n",
       "2015-10-23  29.174999  29.807501  29.082500  29.770000  27.058929  237467600\n",
       "2015-10-26  29.520000  29.532499  28.730000  28.820000  26.195446  265335200"
      ]
     },
     "execution_count": 5,
     "metadata": {},
     "output_type": "execute_result"
    }
   ],
   "source": [
    "start = '2015-10-20'\n",
    "end = '2018-10-20'\n",
    "df = yf.download('AAPL',start, end)\n",
    "df.head()"
   ]
  },
  {
   "cell_type": "code",
   "execution_count": null,
   "id": "af8b6adc",
   "metadata": {},
   "outputs": [],
   "source": []
  }
 ],
 "metadata": {
  "kernelspec": {
   "display_name": "Python 3 (ipykernel)",
   "language": "python",
   "name": "python3"
  },
  "language_info": {
   "codemirror_mode": {
    "name": "ipython",
    "version": 3
   },
   "file_extension": ".py",
   "mimetype": "text/x-python",
   "name": "python",
   "nbconvert_exporter": "python",
   "pygments_lexer": "ipython3",
   "version": "3.10.9"
  }
 },
 "nbformat": 4,
 "nbformat_minor": 5
}
